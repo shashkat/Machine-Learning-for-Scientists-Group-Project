{
 "cells": [
  {
   "cell_type": "code",
   "execution_count": 7,
   "metadata": {},
   "outputs": [],
   "source": [
    "import numpy as np\n",
    "\n",
    "from sklearn.ensemble import RandomForestClassifier\n",
    "from sklearn.model_selection import train_test_split\n",
    "from sklearn.metrics import classification_report, confusion_matrix, accuracy_score\n",
    "from sklearn.preprocessing import StandardScaler\n"
   ]
  },
  {
   "cell_type": "code",
   "execution_count": 4,
   "metadata": {},
   "outputs": [],
   "source": [
    "# Load the data\n",
    "X = np.load('./data/processed/X.npy')\n",
    "y = np.load('./data/processed/y.npy', allow_pickle=True)"
   ]
  },
  {
   "cell_type": "code",
   "execution_count": 10,
   "metadata": {},
   "outputs": [
    {
     "name": "stdout",
     "output_type": "stream",
     "text": [
      "Shape of X: (563, 57915)\n",
      "Shape of y: (563,)\n",
      "Unique types: ['ER+' 'ER+HER2+' 'ER+HER2+ LN metastasis' 'HER2+' 'TNBC'\n",
      " 'TNBC LN metastasis']\n"
     ]
    }
   ],
   "source": [
    "print(\"Shape of X:\", X.shape)\n",
    "print(\"Shape of y:\", y.shape)\n",
    "\n",
    "# list all unique subtypes\n",
    "unique_types = np.unique(y)\n",
    "print(\"Unique types:\", unique_types)"
   ]
  },
  {
   "cell_type": "code",
   "execution_count": 8,
   "metadata": {},
   "outputs": [
    {
     "name": "stdout",
     "output_type": "stream",
     "text": [
      "Accuracy on test data:  0.8584070796460177\n",
      "\n",
      "Classification Report:\n",
      "                         precision    recall  f1-score   support\n",
      "\n",
      "                   ER+       1.00      1.00      1.00        23\n",
      "              ER+HER2+       0.75      0.50      0.60         6\n",
      "ER+HER2+ LN metastasis       0.78      0.70      0.74        10\n",
      "                 HER2+       0.96      0.89      0.92        27\n",
      "                  TNBC       0.76      0.97      0.85        36\n",
      "    TNBC LN metastasis       0.83      0.45      0.59        11\n",
      "\n",
      "              accuracy                           0.86       113\n",
      "             macro avg       0.85      0.75      0.78       113\n",
      "          weighted avg       0.87      0.86      0.85       113\n",
      "\n",
      "\n",
      "Confusion Matrix:\n",
      " [[23  0  0  0  0  0]\n",
      " [ 0  3  0  0  3  0]\n",
      " [ 0  1  7  1  1  0]\n",
      " [ 0  0  0 24  3  0]\n",
      " [ 0  0  0  0 35  1]\n",
      " [ 0  0  2  0  4  5]]\n"
     ]
    }
   ],
   "source": [
    "# Standardize the features\n",
    "scaler = StandardScaler()\n",
    "X_scaled = scaler.fit_transform(X)\n",
    "\n",
    "# Split the dataset into training and testing sets\n",
    "X_train, X_test, y_train, y_test = train_test_split(X_scaled, y, test_size=0.2, random_state=42)\n",
    "\n",
    "# Initialize the Random Forest classifier\n",
    "rf_classifier = RandomForestClassifier(n_estimators=100, random_state=42)  # 100 trees in the forest\n",
    "\n",
    "# Train the classifier on the training data\n",
    "rf_classifier.fit(X_train, y_train)\n",
    "\n",
    "# Predict on the testing data\n",
    "y_pred = rf_classifier.predict(X_test)\n",
    "\n",
    "# Evaluate the classifier performance\n",
    "print(\"Accuracy on test data: \", accuracy_score(y_test, y_pred))\n",
    "print(\"\\nClassification Report:\\n\", classification_report(y_test, y_pred))\n",
    "print(\"\\nConfusion Matrix:\\n\", confusion_matrix(y_test, y_pred))\n"
   ]
  },
  {
   "cell_type": "code",
   "execution_count": null,
   "metadata": {},
   "outputs": [],
   "source": []
  }
 ],
 "metadata": {
  "kernelspec": {
   "display_name": "Python 3",
   "language": "python",
   "name": "python3"
  },
  "language_info": {
   "codemirror_mode": {
    "name": "ipython",
    "version": 3
   },
   "file_extension": ".py",
   "mimetype": "text/x-python",
   "name": "python",
   "nbconvert_exporter": "python",
   "pygments_lexer": "ipython3",
   "version": "3.10.8"
  }
 },
 "nbformat": 4,
 "nbformat_minor": 2
}
